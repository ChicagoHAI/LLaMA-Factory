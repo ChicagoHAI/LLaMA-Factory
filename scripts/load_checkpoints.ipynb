{
 "cells": [
  {
   "cell_type": "markdown",
   "metadata": {},
   "source": [
    "ModelArguments --> "
   ]
  },
  {
   "cell_type": "code",
   "execution_count": null,
   "metadata": {},
   "outputs": [
    {
     "ename": "",
     "evalue": "",
     "output_type": "error",
     "traceback": [
      "\u001b[1;31mRunning cells with 'llama_factory (Python 3.10.14)' requires the ipykernel package.\n",
      "\u001b[1;31mRun the following command to install 'ipykernel' into the Python environment. \n",
      "\u001b[1;31mCommand: 'conda install -n llama_factory ipykernel --update-deps --force-reinstall'"
     ]
    }
   ],
   "source": [
    "import sys \n",
    "sys.path.append(\n",
    "    '/data/karen/LLaMA-Factory/src') # Change to your own path to repo base dir\n",
    "from llmtuner.model.loader import load_model, load_config, load_tokenizer\n",
    "\n",
    "from llmtuner.hparams import  get_train_args\n",
    "\n",
    "import yaml\n",
    "\n",
    "from pathlib import Path"
   ]
  },
  {
   "cell_type": "code",
   "execution_count": null,
   "metadata": {},
   "outputs": [],
   "source": [
    "\n",
    "args = yaml.safe_load(Path(\"/data/karen/LLaMA-Factory/examples/kz_div_inference/gemma2b_lora_debates.yaml\").read_text())"
   ]
  },
  {
   "cell_type": "code",
   "execution_count": null,
   "metadata": {},
   "outputs": [],
   "source": [
    "model_args, data_args, training_args, finetuning_args, generating_args = get_train_args(args)"
   ]
  },
  {
   "cell_type": "code",
   "execution_count": null,
   "metadata": {},
   "outputs": [],
   "source": [
    "tokenizer_module = load_tokenizer(model_args)\n",
    "    \n"
   ]
  },
  {
   "cell_type": "code",
   "execution_count": null,
   "metadata": {},
   "outputs": [],
   "source": [
    "tokenizer = tokenizer_module[\"tokenizer\"]\n",
    "# dataset = get_dataset(model_args, data_args, training_args, stage=\"pt\", **tokenizer_module)\n",
    "model = load_model(tokenizer, model_args, finetuning_args, is_trainable=False)\n",
    "# data_collator = DataCollatorForLanguageModeling(tokenizer=tokenizer, mlm=False)"
   ]
  }
 ],
 "metadata": {
  "kernelspec": {
   "display_name": "kz_experiment",
   "language": "python",
   "name": "python3"
  },
  "language_info": {
   "codemirror_mode": {
    "name": "ipython",
    "version": 3
   },
   "file_extension": ".py",
   "mimetype": "text/x-python",
   "name": "python",
   "nbconvert_exporter": "python",
   "pygments_lexer": "ipython3",
   "version": "3.10.14"
  }
 },
 "nbformat": 4,
 "nbformat_minor": 2
}
